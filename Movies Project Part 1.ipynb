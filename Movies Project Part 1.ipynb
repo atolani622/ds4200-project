{
 "cells": [
  {
   "cell_type": "code",
   "execution_count": 1,
   "id": "956c8660-b6d4-4e5e-a0d2-1333fa629eb7",
   "metadata": {
    "tags": []
   },
   "outputs": [],
   "source": [
    "import pandas as pd\n",
    "import altair as alt\n",
    "import matplotlib.pyplot as plt\n",
    "import seaborn as sns"
   ]
  },
  {
   "cell_type": "code",
   "execution_count": 2,
   "id": "7ab35d07-dafa-448a-aa00-0188d8c3c587",
   "metadata": {
    "tags": []
   },
   "outputs": [],
   "source": [
    "movies = pd.read_csv('movies.csv')"
   ]
  },
  {
   "cell_type": "code",
   "execution_count": 3,
   "id": "7f69fda5-b994-47d2-a548-df10196b8fbe",
   "metadata": {
    "tags": []
   },
   "outputs": [
    {
     "data": {
      "text/html": [
       "<div>\n",
       "<style scoped>\n",
       "    .dataframe tbody tr th:only-of-type {\n",
       "        vertical-align: middle;\n",
       "    }\n",
       "\n",
       "    .dataframe tbody tr th {\n",
       "        vertical-align: top;\n",
       "    }\n",
       "\n",
       "    .dataframe thead th {\n",
       "        text-align: right;\n",
       "    }\n",
       "</style>\n",
       "<table border=\"1\" class=\"dataframe\">\n",
       "  <thead>\n",
       "    <tr style=\"text-align: right;\">\n",
       "      <th></th>\n",
       "      <th>Unnamed: 0</th>\n",
       "      <th>title</th>\n",
       "      <th>release_date</th>\n",
       "      <th>revenue</th>\n",
       "      <th>runtime</th>\n",
       "      <th>budget</th>\n",
       "      <th>original_language</th>\n",
       "      <th>genres</th>\n",
       "      <th>imdb_rating</th>\n",
       "      <th>imdb_votes</th>\n",
       "    </tr>\n",
       "  </thead>\n",
       "  <tbody>\n",
       "    <tr>\n",
       "      <th>0</th>\n",
       "      <td>7</td>\n",
       "      <td>Finding Nemo</td>\n",
       "      <td>2003-05-30</td>\n",
       "      <td>940335536.0</td>\n",
       "      <td>100.0</td>\n",
       "      <td>94000000.0</td>\n",
       "      <td>en</td>\n",
       "      <td>Animation, Family</td>\n",
       "      <td>8.2</td>\n",
       "      <td>1131808.0</td>\n",
       "    </tr>\n",
       "    <tr>\n",
       "      <th>1</th>\n",
       "      <td>15</td>\n",
       "      <td>My Life Without Me</td>\n",
       "      <td>2003-03-07</td>\n",
       "      <td>12300000.0</td>\n",
       "      <td>106.0</td>\n",
       "      <td>2500000.0</td>\n",
       "      <td>en</td>\n",
       "      <td>Drama, Romance</td>\n",
       "      <td>7.4</td>\n",
       "      <td>26005.0</td>\n",
       "    </tr>\n",
       "    <tr>\n",
       "      <th>2</th>\n",
       "      <td>17</td>\n",
       "      <td>Pirates of the Caribbean: The Curse of the Bla...</td>\n",
       "      <td>2003-07-09</td>\n",
       "      <td>655011224.0</td>\n",
       "      <td>143.0</td>\n",
       "      <td>140000000.0</td>\n",
       "      <td>en</td>\n",
       "      <td>Adventure, Fantasy, Action</td>\n",
       "      <td>8.1</td>\n",
       "      <td>1232790.0</td>\n",
       "    </tr>\n",
       "    <tr>\n",
       "      <th>3</th>\n",
       "      <td>18</td>\n",
       "      <td>Kill Bill: Vol. 1</td>\n",
       "      <td>2003-10-10</td>\n",
       "      <td>180906076.0</td>\n",
       "      <td>111.0</td>\n",
       "      <td>30000000.0</td>\n",
       "      <td>en</td>\n",
       "      <td>Action, Crime</td>\n",
       "      <td>8.2</td>\n",
       "      <td>1217716.0</td>\n",
       "    </tr>\n",
       "    <tr>\n",
       "      <th>4</th>\n",
       "      <td>19</td>\n",
       "      <td>Jarhead</td>\n",
       "      <td>2005-11-04</td>\n",
       "      <td>97076152.0</td>\n",
       "      <td>123.0</td>\n",
       "      <td>72000000.0</td>\n",
       "      <td>en</td>\n",
       "      <td>Drama, War</td>\n",
       "      <td>7.0</td>\n",
       "      <td>210770.0</td>\n",
       "    </tr>\n",
       "  </tbody>\n",
       "</table>\n",
       "</div>"
      ],
      "text/plain": [
       "   Unnamed: 0                                              title release_date  \\\n",
       "0           7                                       Finding Nemo   2003-05-30   \n",
       "1          15                                 My Life Without Me   2003-03-07   \n",
       "2          17  Pirates of the Caribbean: The Curse of the Bla...   2003-07-09   \n",
       "3          18                                  Kill Bill: Vol. 1   2003-10-10   \n",
       "4          19                                            Jarhead   2005-11-04   \n",
       "\n",
       "       revenue  runtime       budget original_language  \\\n",
       "0  940335536.0    100.0   94000000.0                en   \n",
       "1   12300000.0    106.0    2500000.0                en   \n",
       "2  655011224.0    143.0  140000000.0                en   \n",
       "3  180906076.0    111.0   30000000.0                en   \n",
       "4   97076152.0    123.0   72000000.0                en   \n",
       "\n",
       "                       genres  imdb_rating  imdb_votes  \n",
       "0           Animation, Family          8.2   1131808.0  \n",
       "1              Drama, Romance          7.4     26005.0  \n",
       "2  Adventure, Fantasy, Action          8.1   1232790.0  \n",
       "3               Action, Crime          8.2   1217716.0  \n",
       "4                  Drama, War          7.0    210770.0  "
      ]
     },
     "execution_count": 3,
     "metadata": {},
     "output_type": "execute_result"
    }
   ],
   "source": [
    "movies.head()"
   ]
  },
  {
   "cell_type": "code",
   "execution_count": 4,
   "id": "a3365d51-2c93-425c-96dc-d0d043d24fe5",
   "metadata": {
    "tags": []
   },
   "outputs": [
    {
     "data": {
      "text/plain": [
       "(4552, 10)"
      ]
     },
     "execution_count": 4,
     "metadata": {},
     "output_type": "execute_result"
    }
   ],
   "source": [
    "movies.shape"
   ]
  },
  {
   "cell_type": "code",
   "execution_count": 8,
   "id": "22a397c1-f85d-46c3-a6da-4011af7b299d",
   "metadata": {
    "tags": []
   },
   "outputs": [
    {
     "name": "stderr",
     "output_type": "stream",
     "text": [
      "/Users/akshaytolani/anaconda3/lib/python3.11/site-packages/seaborn/_oldcore.py:1498: FutureWarning: is_categorical_dtype is deprecated and will be removed in a future version. Use isinstance(dtype, CategoricalDtype) instead\n",
      "  if pd.api.types.is_categorical_dtype(vector):\n",
      "/Users/akshaytolani/anaconda3/lib/python3.11/site-packages/seaborn/categorical.py:641: FutureWarning: The default of observed=False is deprecated and will be changed to True in a future version of pandas. Pass observed=False to retain current behavior or observed=True to adopt the future default and silence this warning.\n",
      "  grouped_vals = vals.groupby(grouper)\n"
     ]
    },
    {
     "data": {
      "image/png": "[encoded data removed]",
      "text/plain": [
       "<Figure size 800x600 with 1 Axes>"
      ]
     },
     "metadata": {},
     "output_type": "display_data"
    }
   ],
   "source": [
    "\n",
    "bins = [0, 5000000, 50000000, 200000000]\n",
    "labels = ['Low', 'Medium', 'High']\n",
    "movies['budget_range'] = pd.cut(movies['budget'], bins=bins, labels=labels)\n",
    "\n",
    "plt.figure(figsize=(8, 6))\n",
    "sns.boxplot(x='budget_range', y='imdb_rating', data=movies, palette=\"Set2\")\n",
    "plt.title('IMDB Rating Distribution by Budget Range')\n",
    "plt.xlabel('Budget Range')\n",
    "plt.ylabel('IMDB Rating')\n",
    "plt.show()"
   ]
  }
 ],
 "metadata": {
  "kernelspec": {
   "display_name": "Python 3 (ipykernel)",
   "language": "python",
   "name": "python3"
  },
  "language_info": {
   "codemirror_mode": {
    "name": "ipython",
    "version": 3
   },
   "file_extension": ".py",
   "mimetype": "text/x-python",
   "name": "python",
   "nbconvert_exporter": "python",
   "pygments_lexer": "ipython3",
   "version": "3.11.4"
  }
 },
 "nbformat": 4,
 "nbformat_minor": 5
}
