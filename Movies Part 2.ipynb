{
 "cells": [
  {
   "cell_type": "code",
   "execution_count": 1,
   "id": "785ad309-580a-444e-add2-51c326fb507d",
   "metadata": {
    "tags": []
   },
   "outputs": [],
   "source": [
    "import pandas as pd\n",
    "import altair as alt\n",
    "import matplotlib.pyplot as plt\n",
    "import seaborn as sns"
   ]
  },
  {
   "cell_type": "code",
   "execution_count": 2,
   "id": "455887b0-fabf-4397-90a0-2db5f991ab3c",
   "metadata": {
    "tags": []
   },
   "outputs": [],
   "source": [
    "movies = pd.read_csv('movies.csv')"
   ]
  },
  {
   "cell_type": "code",
   "execution_count": 3,
   "id": "d7537c5f-ab19-44fe-a74b-434765b57ddd",
   "metadata": {
    "tags": []
   },
   "outputs": [
    {
     "data": {
      "text/html": [
       "<div>\n",
       "<style scoped>\n",
       "    .dataframe tbody tr th:only-of-type {\n",
       "        vertical-align: middle;\n",
       "    }\n",
       "\n",
       "    .dataframe tbody tr th {\n",
       "        vertical-align: top;\n",
       "    }\n",
       "\n",
       "    .dataframe thead th {\n",
       "        text-align: right;\n",
       "    }\n",
       "</style>\n",
       "<table border=\"1\" class=\"dataframe\">\n",
       "  <thead>\n",
       "    <tr style=\"text-align: right;\">\n",
       "      <th></th>\n",
       "      <th>Unnamed: 0</th>\n",
       "      <th>title</th>\n",
       "      <th>release_date</th>\n",
       "      <th>revenue</th>\n",
       "      <th>runtime</th>\n",
       "      <th>budget</th>\n",
       "      <th>original_language</th>\n",
       "      <th>genres</th>\n",
       "      <th>imdb_rating</th>\n",
       "      <th>imdb_votes</th>\n",
       "    </tr>\n",
       "  </thead>\n",
       "  <tbody>\n",
       "    <tr>\n",
       "      <th>0</th>\n",
       "      <td>7</td>\n",
       "      <td>Finding Nemo</td>\n",
       "      <td>2003-05-30</td>\n",
       "      <td>940335536.0</td>\n",
       "      <td>100.0</td>\n",
       "      <td>94000000.0</td>\n",
       "      <td>en</td>\n",
       "      <td>Animation, Family</td>\n",
       "      <td>8.2</td>\n",
       "      <td>1131808.0</td>\n",
       "    </tr>\n",
       "    <tr>\n",
       "      <th>1</th>\n",
       "      <td>15</td>\n",
       "      <td>My Life Without Me</td>\n",
       "      <td>2003-03-07</td>\n",
       "      <td>12300000.0</td>\n",
       "      <td>106.0</td>\n",
       "      <td>2500000.0</td>\n",
       "      <td>en</td>\n",
       "      <td>Drama, Romance</td>\n",
       "      <td>7.4</td>\n",
       "      <td>26005.0</td>\n",
       "    </tr>\n",
       "    <tr>\n",
       "      <th>2</th>\n",
       "      <td>17</td>\n",
       "      <td>Pirates of the Caribbean: The Curse of the Bla...</td>\n",
       "      <td>2003-07-09</td>\n",
       "      <td>655011224.0</td>\n",
       "      <td>143.0</td>\n",
       "      <td>140000000.0</td>\n",
       "      <td>en</td>\n",
       "      <td>Adventure, Fantasy, Action</td>\n",
       "      <td>8.1</td>\n",
       "      <td>1232790.0</td>\n",
       "    </tr>\n",
       "    <tr>\n",
       "      <th>3</th>\n",
       "      <td>18</td>\n",
       "      <td>Kill Bill: Vol. 1</td>\n",
       "      <td>2003-10-10</td>\n",
       "      <td>180906076.0</td>\n",
       "      <td>111.0</td>\n",
       "      <td>30000000.0</td>\n",
       "      <td>en</td>\n",
       "      <td>Action, Crime</td>\n",
       "      <td>8.2</td>\n",
       "      <td>1217716.0</td>\n",
       "    </tr>\n",
       "    <tr>\n",
       "      <th>4</th>\n",
       "      <td>19</td>\n",
       "      <td>Jarhead</td>\n",
       "      <td>2005-11-04</td>\n",
       "      <td>97076152.0</td>\n",
       "      <td>123.0</td>\n",
       "      <td>72000000.0</td>\n",
       "      <td>en</td>\n",
       "      <td>Drama, War</td>\n",
       "      <td>7.0</td>\n",
       "      <td>210770.0</td>\n",
       "    </tr>\n",
       "  </tbody>\n",
       "</table>\n",
       "</div>"
      ],
      "text/plain": [
       "   Unnamed: 0                                              title release_date  \\\n",
       "0           7                                       Finding Nemo   2003-05-30   \n",
       "1          15                                 My Life Without Me   2003-03-07   \n",
       "2          17  Pirates of the Caribbean: The Curse of the Bla...   2003-07-09   \n",
       "3          18                                  Kill Bill: Vol. 1   2003-10-10   \n",
       "4          19                                            Jarhead   2005-11-04   \n",
       "\n",
       "       revenue  runtime       budget original_language  \\\n",
       "0  940335536.0    100.0   94000000.0                en   \n",
       "1   12300000.0    106.0    2500000.0                en   \n",
       "2  655011224.0    143.0  140000000.0                en   \n",
       "3  180906076.0    111.0   30000000.0                en   \n",
       "4   97076152.0    123.0   72000000.0                en   \n",
       "\n",
       "                       genres  imdb_rating  imdb_votes  \n",
       "0           Animation, Family          8.2   1131808.0  \n",
       "1              Drama, Romance          7.4     26005.0  \n",
       "2  Adventure, Fantasy, Action          8.1   1232790.0  \n",
       "3               Action, Crime          8.2   1217716.0  \n",
       "4                  Drama, War          7.0    210770.0  "
      ]
     },
     "execution_count": 3,
     "metadata": {},
     "output_type": "execute_result"
    }
   ],
   "source": [
    "movies.head()"
   ]
  },
  {
   "cell_type": "code",
   "execution_count": 4,
   "id": "56963f0d-74a7-4f0e-824d-d1b20f78ab9e",
   "metadata": {
    "tags": []
   },
   "outputs": [
    {
     "data": {
      "text/plain": [
       "(4552, 10)"
      ]
     },
     "execution_count": 4,
     "metadata": {},
     "output_type": "execute_result"
    }
   ],
   "source": [
    "movies.shape"
   ]
  },
  {
   "cell_type": "code",
   "execution_count": 5,
   "id": "cd931f1d-63ba-42fc-bc83-b8f66ec9e00a",
   "metadata": {
    "tags": []
   },
   "outputs": [
    {
     "name": "stderr",
     "output_type": "stream",
     "text": [
      "/var/folders/sq/63k8_j_d6d1213pjvxhk96tr0000gn/T/ipykernel_3339/640239924.py:8: FutureWarning: The default of observed=False is deprecated and will be changed to True in a future version of pandas. Pass observed=False to retain current behavior or observed=True to adopt the future default and silence this warning.\n",
      "  grouped = movies.groupby(['genres', 'runtime_range']).size().reset_index(name='count')\n"
     ]
    },
    {
     "data": {
      "text/html": [
       "\n",
       "<style>\n",
       "  #altair-viz-c9c7f9331341417d9249d255d6d2f0c3.vega-embed {\n",
       "    width: 100%;\n",
       "    display: flex;\n",
       "  }\n",
       "\n",
       "  #altair-viz-c9c7f9331341417d9249d255d6d2f0c3.vega-embed details,\n",
       "  #altair-viz-c9c7f9331341417d9249d255d6d2f0c3.vega-embed details summary {\n",
       "    position: relative;\n",
       "  }\n",
       "</style>\n",
       "<div id=\"altair-viz-c9c7f9331341417d9249d255d6d2f0c3\"></div>\n",
       "<script type=\"text/javascript\">\n",
       "  var VEGA_DEBUG = (typeof VEGA_DEBUG == \"undefined\") ? {} : VEGA_DEBUG;\n",
       "  (function(spec, embedOpt){\n",
       "    let outputDiv = document.currentScript.previousElementSibling;\n",
       "    if (outputDiv.id !== \"altair-viz-c9c7f9331341417d9249d255d6d2f0c3\") {\n",
       "      outputDiv = document.getElementById(\"altair-viz-c9c7f9331341417d9249d255d6d2f0c3\");\n",
       "    }\n",
       "    const paths = {\n",
       "      \"vega\": \"https://cdn.jsdelivr.net/npm/vega@5?noext\",\n",
       "      \"vega-lib\": \"https://cdn.jsdelivr.net/npm/vega-lib?noext\",\n",
       "      \"vega-lite\": \"https://cdn.jsdelivr.net/npm/vega-lite@5.20.1?noext\",\n",
       "      \"vega-embed\": \"https://cdn.jsdelivr.net/npm/vega-embed@6?noext\",\n",
       "    };\n",
       "\n",
       "    function maybeLoadScript(lib, version) {\n",
       "      var key = `${lib.replace(\"-\", \"\")}_version`;\n",
       "      return (VEGA_DEBUG[key] == version) ?\n",
       "        Promise.resolve(paths[lib]) :\n",
       "        new Promise(function(resolve, reject) {\n",
       "          var s = document.createElement('script');\n",
       "          document.getElementsByTagName(\"head\")[0].appendChild(s);\n",
       "          s.async = true;\n",
       "          s.onload = () => {\n",
       "            VEGA_DEBUG[key] = version;\n",
       "            return resolve(paths[lib]);\n",
       "          };\n",
       "          s.onerror = () => reject(`Error loading script: ${paths[lib]}`);\n",
       "          s.src = paths[lib];\n",
       "        });\n",
       "    }\n",
       "\n",
       "    function showError(err) {\n",
       "      outputDiv.innerHTML = `<div class=\"error\" style=\"color:red;\">${err}</div>`;\n",
       "      throw err;\n",
       "    }\n",
       "\n",
       "    function displayChart(vegaEmbed) {\n",
       "      vegaEmbed(outputDiv, spec, embedOpt)\n",
       "        .catch(err => showError(`Javascript Error: ${err.message}<br>This usually means there's a typo in your chart specification. See the javascript console for the full traceback.`));\n",
       "    }\n",
       "\n",
       "    if(typeof define === \"function\" && define.amd) {\n",
       "      requirejs.config({paths});\n",
       "      require([\"vega-embed\"], displayChart, err => showError(`Error loading script: ${err.message}`));\n",
       "    } else {\n",
       "      maybeLoadScript(\"vega\", \"5\")\n",
       "        .then(() => maybeLoadScript(\"vega-lite\", \"5.20.1\"))\n",
       "        .then(() => maybeLoadScript(\"vega-embed\", \"6\"))\n",
       "        .catch(showError)\n",
       "        .then(() => displayChart(vegaEmbed));\n",
       "    }\n",
       "  })({\"config\": {\"view\": {\"continuousWidth\": 300, \"continuousHeight\": 300}}, \"data\": {\"name\": \"data-d127057fa7303a1d3dadf6508959e160\"}, \"mark\": {\"type\": \"circle\"}, \"encoding\": {\"color\": {\"field\": \"genres\", \"legend\": null, \"type\": \"nominal\"}, \"size\": {\"field\": \"count\", \"legend\": null, \"title\": \"Count\", \"type\": \"quantitative\"}, \"tooltip\": [{\"field\": \"genres\", \"type\": \"nominal\"}, {\"field\": \"runtime_range\", \"type\": \"ordinal\"}, {\"field\": \"count\", \"type\": \"quantitative\"}], \"x\": {\"field\": \"genres\", \"title\": \"Genre\", \"type\": \"nominal\"}, \"y\": {\"field\": \"runtime_range\", \"title\": \"Runtime Range\", \"type\": \"nominal\"}}, \"height\": 400, \"title\": \"Movie Count by Genre and Runtime Range\", \"width\": 800, \"$schema\": \"https://vega.github.io/schema/vega-lite/v5.20.1.json\", \"datasets\": {\"data-d127057fa7303a1d3dadf6508959e160\": [{\"genres\": \"Action\", \"runtime_range\": \"Short\", \"count\": 127}, {\"genres\": \"Action\", \"runtime_range\": \"Medium\", \"count\": 679}, {\"genres\": \"Action\", \"runtime_range\": \"Long\", \"count\": 270}, {\"genres\": \"Adventure\", \"runtime_range\": \"Short\", \"count\": 125}, {\"genres\": \"Adventure\", \"runtime_range\": \"Medium\", \"count\": 462}, {\"genres\": \"Adventure\", \"runtime_range\": \"Long\", \"count\": 222}, {\"genres\": \"Animation\", \"runtime_range\": \"Short\", \"count\": 141}, {\"genres\": \"Animation\", \"runtime_range\": \"Medium\", \"count\": 168}, {\"genres\": \"Animation\", \"runtime_range\": \"Long\", \"count\": 1}, {\"genres\": \"Comedy\", \"runtime_range\": \"Short\", \"count\": 355}, {\"genres\": \"Comedy\", \"runtime_range\": \"Medium\", \"count\": 1084}, {\"genres\": \"Comedy\", \"runtime_range\": \"Long\", \"count\": 110}, {\"genres\": \"Crime\", \"runtime_range\": \"Short\", \"count\": 83}, {\"genres\": \"Crime\", \"runtime_range\": \"Medium\", \"count\": 420}, {\"genres\": \"Crime\", \"runtime_range\": \"Long\", \"count\": 125}, {\"genres\": \"Documentary\", \"runtime_range\": \"Short\", \"count\": 61}, {\"genres\": \"Documentary\", \"runtime_range\": \"Medium\", \"count\": 58}, {\"genres\": \"Documentary\", \"runtime_range\": \"Long\", \"count\": 12}, {\"genres\": \"Drama\", \"runtime_range\": \"Short\", \"count\": 219}, {\"genres\": \"Drama\", \"runtime_range\": \"Medium\", \"count\": 1309}, {\"genres\": \"Drama\", \"runtime_range\": \"Long\", \"count\": 481}, {\"genres\": \"Family\", \"runtime_range\": \"Short\", \"count\": 151}, {\"genres\": \"Family\", \"runtime_range\": \"Medium\", \"count\": 348}, {\"genres\": \"Family\", \"runtime_range\": \"Long\", \"count\": 23}, {\"genres\": \"Fantasy\", \"runtime_range\": \"Short\", \"count\": 76}, {\"genres\": \"Fantasy\", \"runtime_range\": \"Medium\", \"count\": 280}, {\"genres\": \"Fantasy\", \"runtime_range\": \"Long\", \"count\": 83}, {\"genres\": \"History\", \"runtime_range\": \"Short\", \"count\": 6}, {\"genres\": \"History\", \"runtime_range\": \"Medium\", \"count\": 89}, {\"genres\": \"History\", \"runtime_range\": \"Long\", \"count\": 125}, {\"genres\": \"Horror\", \"runtime_range\": \"Short\", \"count\": 200}, {\"genres\": \"Horror\", \"runtime_range\": \"Medium\", \"count\": 404}, {\"genres\": \"Horror\", \"runtime_range\": \"Long\", \"count\": 33}, {\"genres\": \"Music\", \"runtime_range\": \"Short\", \"count\": 34}, {\"genres\": \"Music\", \"runtime_range\": \"Medium\", \"count\": 105}, {\"genres\": \"Music\", \"runtime_range\": \"Long\", \"count\": 32}, {\"genres\": \"Mystery\", \"runtime_range\": \"Short\", \"count\": 70}, {\"genres\": \"Mystery\", \"runtime_range\": \"Medium\", \"count\": 264}, {\"genres\": \"Mystery\", \"runtime_range\": \"Long\", \"count\": 59}, {\"genres\": \"Romance\", \"runtime_range\": \"Short\", \"count\": 81}, {\"genres\": \"Romance\", \"runtime_range\": \"Medium\", \"count\": 508}, {\"genres\": \"Romance\", \"runtime_range\": \"Long\", \"count\": 120}, {\"genres\": \"Science Fiction\", \"runtime_range\": \"Short\", \"count\": 74}, {\"genres\": \"Science Fiction\", \"runtime_range\": \"Medium\", \"count\": 275}, {\"genres\": \"Science Fiction\", \"runtime_range\": \"Long\", \"count\": 140}, {\"genres\": \"TV Movie\", \"runtime_range\": \"Short\", \"count\": 10}, {\"genres\": \"TV Movie\", \"runtime_range\": \"Medium\", \"count\": 5}, {\"genres\": \"TV Movie\", \"runtime_range\": \"Long\", \"count\": 1}, {\"genres\": \"Thriller\", \"runtime_range\": \"Short\", \"count\": 201}, {\"genres\": \"Thriller\", \"runtime_range\": \"Medium\", \"count\": 788}, {\"genres\": \"Thriller\", \"runtime_range\": \"Long\", \"count\": 189}, {\"genres\": \"War\", \"runtime_range\": \"Short\", \"count\": 10}, {\"genres\": \"War\", \"runtime_range\": \"Medium\", \"count\": 54}, {\"genres\": \"War\", \"runtime_range\": \"Long\", \"count\": 50}, {\"genres\": \"Western\", \"runtime_range\": \"Short\", \"count\": 7}, {\"genres\": \"Western\", \"runtime_range\": \"Medium\", \"count\": 25}, {\"genres\": \"Western\", \"runtime_range\": \"Long\", \"count\": 17}]}}, {\"mode\": \"vega-lite\"});\n",
       "</script>"
      ],
      "text/plain": [
       "alt.Chart(...)"
      ]
     },
     "execution_count": 5,
     "metadata": {},
     "output_type": "execute_result"
    }
   ],
   "source": [
    "movies['genres'] = movies['genres'].str.split(', ')\n",
    "movies = movies.explode('genres')\n",
    "\n",
    "bins = [0, 90, 120, 180]\n",
    "labels = ['Short', 'Medium', 'Long']\n",
    "movies['runtime_range'] = pd.cut(movies['runtime'], bins=bins, labels=labels)\n",
    "\n",
    "grouped = movies.groupby(['genres', 'runtime_range']).size().reset_index(name='count')\n",
    "\n",
    "chart = alt.Chart(grouped).mark_circle().encode(\n",
    "    x=alt.X('genres:N', title='Genre'),\n",
    "    y=alt.Y('runtime_range:N', title='Runtime Range'),\n",
    "    size=alt.Size('count:Q', title='Count', legend=None),\n",
    "    color=alt.Color('genres:N', legend=None),\n",
    "    tooltip=['genres', 'runtime_range', 'count']\n",
    ").properties(\n",
    "    width=800,\n",
    "    height=400,\n",
    "    title='Movie Count by Genre and Runtime Range'\n",
    ")\n",
    "\n",
    "chart"
   ]
  },
  {
   "cell_type": "code",
   "execution_count": null,
   "id": "d2b4d819-885c-4b87-bcbc-184023d33c0f",
   "metadata": {},
   "outputs": [],
   "source": []
  }
 ],
 "metadata": {
  "kernelspec": {
   "display_name": "Python 3 (ipykernel)",
   "language": "python",
   "name": "python3"
  },
  "language_info": {
   "codemirror_mode": {
    "name": "ipython",
    "version": 3
   },
   "file_extension": ".py",
   "mimetype": "text/x-python",
   "name": "python",
   "nbconvert_exporter": "python",
   "pygments_lexer": "ipython3",
   "version": "3.11.4"
  }
 },
 "nbformat": 4,
 "nbformat_minor": 5
}
